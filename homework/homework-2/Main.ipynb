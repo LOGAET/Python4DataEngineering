{
 "cells": [
  {
   "cell_type": "markdown",
   "id": "372f75ee",
   "metadata": {},
   "source": [
    "## Домашнее задание 1"
   ]
  },
  {
   "cell_type": "markdown",
   "id": "ad1ad7f4",
   "metadata": {},
   "source": [
    "### Задание 1"
   ]
  },
  {
   "cell_type": "code",
   "execution_count": 17,
   "id": "2b68e576",
   "metadata": {},
   "outputs": [
    {
     "name": "stdout",
     "output_type": "stream",
     "text": [
      "The Moscow Times : 'Thursday, 18 August 1977' -> datetime.datetime(2002, 10, 2, 0, 0)\n",
      "The Guardian : 'Thursday, 18 August 1977' -> datetime.datetime(2013, 10, 11, 0, 0)\n",
      "Daily News : 'Thursday, 18 August 1977' -> datetime.datetime(1977, 8, 18, 0, 0)\n"
     ]
    }
   ],
   "source": [
    "from datetime import datetime\n",
    "\n",
    "in_data = ['The Moscow Times - Wednesday, October 2, 2002', \n",
    "    'The Guardian - Friday, 11.10.13', \n",
    "    'Daily News - Thursday, 18 August 1977']\n",
    "\n",
    "patterns = {\n",
    "    \"The Moscow Times\": \"%A, %B %d, %Y\",\n",
    "    \"The Guardian\":     \"%A, %d.%m.%y\",\n",
    "    \"Daily News\":       \"%A, %d %B %Y\",\n",
    "}\n",
    "\n",
    "def processPapperDate(value: str):\n",
    "    papper, date = value.split('-')\n",
    "    pattern = patterns[papper.strip()]\n",
    "    dt = datetime.strptime(date.strip(), pattern)\n",
    "    print(f\"{papper}: '{s}' -> {dt!r}\")\n",
    "\n",
    "for i in in_data:\n",
    "    processPapperDate(i)"
   ]
  },
  {
   "cell_type": "markdown",
   "id": "e4525cec",
   "metadata": {},
   "source": [
    "### Задание 2"
   ]
  },
  {
   "cell_type": "code",
   "execution_count": null,
   "id": "18ab06e1",
   "metadata": {},
   "outputs": [
    {
     "data": {
      "text/plain": [
       "['2022-01-01', '2022-01-02', '2022-01-03']"
      ]
     },
     "execution_count": 10,
     "metadata": {},
     "output_type": "execute_result"
    }
   ],
   "source": [
    "from datetime import datetime, timedelta\n",
    "\n",
    "def date_range(start_date: str, end_date: str) ->list[str]:\n",
    "    pattern = \"%Y-%m-%d\"\n",
    "    try:\n",
    "        start = datetime.strptime(start_date, pattern)\n",
    "        end = datetime.strptime(end_date, pattern)\n",
    "        \n",
    "        if start > end:\n",
    "                return []\n",
    "        \n",
    "        return [\n",
    "            (start + timedelta(days=i)).strftime(pattern)\n",
    "            for i in range((end - start).days + 1)\n",
    "        ]\n",
    "    except ValueError:\n",
    "         return []\n",
    "\n",
    "date_range('2022-01-01', '2022-01-03')\n"
   ]
  },
  {
   "cell_type": "code",
   "execution_count": 11,
   "id": "cee5f5d4",
   "metadata": {},
   "outputs": [
    {
     "data": {
      "text/plain": [
       "[]"
      ]
     },
     "execution_count": 11,
     "metadata": {},
     "output_type": "execute_result"
    }
   ],
   "source": [
    "date_range('2022-01-03', '2022-01-01')"
   ]
  },
  {
   "cell_type": "code",
   "execution_count": 12,
   "id": "ef254121",
   "metadata": {},
   "outputs": [
    {
     "data": {
      "text/plain": [
       "[]"
      ]
     },
     "execution_count": 12,
     "metadata": {},
     "output_type": "execute_result"
    }
   ],
   "source": [
    "date_range('2022-02-30', '2022-02-31')"
   ]
  }
 ],
 "metadata": {
  "kernelspec": {
   "display_name": ".venv (3.13.7)",
   "language": "python",
   "name": "python3"
  },
  "language_info": {
   "codemirror_mode": {
    "name": "ipython",
    "version": 3
   },
   "file_extension": ".py",
   "mimetype": "text/x-python",
   "name": "python",
   "nbconvert_exporter": "python",
   "pygments_lexer": "ipython3",
   "version": "3.13.7"
  }
 },
 "nbformat": 4,
 "nbformat_minor": 5
}
