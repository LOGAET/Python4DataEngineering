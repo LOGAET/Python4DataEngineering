{
 "cells": [
  {
   "cell_type": "markdown",
   "id": "51b32c16",
   "metadata": {},
   "source": [
    "## Домашнее задание 4"
   ]
  },
  {
   "cell_type": "markdown",
   "id": "f801161e",
   "metadata": {},
   "source": [
    "### Задание 1"
   ]
  },
  {
   "cell_type": "code",
   "execution_count": 4,
   "id": "e077c0d9",
   "metadata": {},
   "outputs": [
    {
     "name": "stdout",
     "output_type": "stream",
     "text": [
      "Номер А222ВС валиден. Регион: 96.\n"
     ]
    }
   ],
   "source": [
    "import re\n",
    "\n",
    "def check_car_id(car_id: str):\n",
    "    allowed_letters = \"АВЕКМНОРСТУХ\"\n",
    "    \n",
    "    # 1 буква, 3 цифры, 2 буквы, 2–3 цифры\n",
    "    pattern = rf\"^([{allowed_letters}])(\\d{{3}})([{allowed_letters}]{{2}})(\\d{{2,3}})$\"\n",
    "    \n",
    "    match = re.match(pattern, car_id)\n",
    "    if match:\n",
    "        number = match.group(1) + match.group(2) + match.group(3)\n",
    "        region = match.group(4)\n",
    "        print(f\"Номер {number} валиден. Регион: {region}.\")\n",
    "    else:\n",
    "        print(\"Номер не валиден.\")\n",
    "        \n",
    "\n",
    "check_car_id('А222ВС96') \n"
   ]
  },
  {
   "cell_type": "code",
   "execution_count": 5,
   "id": "4de7f72d",
   "metadata": {},
   "outputs": [
    {
     "name": "stdout",
     "output_type": "stream",
     "text": [
      "Номер не валиден.\n"
     ]
    }
   ],
   "source": [
    "check_car_id('АБ22ВВ193') "
   ]
  },
  {
   "cell_type": "markdown",
   "id": "961434fc",
   "metadata": {},
   "source": [
    "### Задание 2"
   ]
  },
  {
   "cell_type": "code",
   "execution_count": null,
   "id": "cfc654aa",
   "metadata": {},
   "outputs": [
    {
     "name": "stdout",
     "output_type": "stream",
     "text": [
      "Напишите функцию, которая будет удалять все последовательные повторы слов из заданной строки при помощи регулярных выражений\n"
     ]
    }
   ],
   "source": [
    "def remove_duplicates(some_string: str):\n",
    "    result = re.sub(r'\\b(\\w+)(?:\\s+\\1\\b)+', r'\\1', some_string)\n",
    "    print(result)\n",
    "\n",
    "\n",
    "some_string = 'Напишите функцию функцию, которая будет будет будет будет удалять все все все все последовательные повторы слов из из из из заданной строки строки при помощи регулярных выражений'\n",
    "remove_duplicates(some_string)\n"
   ]
  }
 ],
 "metadata": {
  "kernelspec": {
   "display_name": ".venv (3.13.7)",
   "language": "python",
   "name": "python3"
  },
  "language_info": {
   "codemirror_mode": {
    "name": "ipython",
    "version": 3
   },
   "file_extension": ".py",
   "mimetype": "text/x-python",
   "name": "python",
   "nbconvert_exporter": "python",
   "pygments_lexer": "ipython3",
   "version": "3.13.7"
  }
 },
 "nbformat": 4,
 "nbformat_minor": 5
}
