{
 "cells": [
  {
   "cell_type": "markdown",
   "id": "2f44058d",
   "metadata": {},
   "source": [
    "## Домашнее задание 3"
   ]
  },
  {
   "cell_type": "code",
   "execution_count": 40,
   "id": "5e554974",
   "metadata": {},
   "outputs": [
    {
     "name": "stdout",
     "output_type": "stream",
     "text": [
      "<class 'pandas.core.frame.DataFrame'>\n",
      "RangeIndex: 20000 entries, 0 to 19999\n",
      "Data columns (total 16 columns):\n",
      " #   Column             Non-Null Count  Dtype  \n",
      "---  ------             --------------  -----  \n",
      " 0   Customer ID        20000 non-null  int64  \n",
      " 1   Age                20000 non-null  int64  \n",
      " 2   Gender             19999 non-null  object \n",
      " 3   Loyalty Member     20000 non-null  object \n",
      " 4   Product Type       20000 non-null  object \n",
      " 5   SKU                20000 non-null  object \n",
      " 6   Rating             20000 non-null  int64  \n",
      " 7   Order Status       20000 non-null  object \n",
      " 8   Payment Method     20000 non-null  object \n",
      " 9   Total Price        20000 non-null  float64\n",
      " 10  Unit Price         20000 non-null  float64\n",
      " 11  Quantity           20000 non-null  int64  \n",
      " 12  Purchase Date      20000 non-null  object \n",
      " 13  Shipping Type      20000 non-null  object \n",
      " 14  Add-ons Purchased  15132 non-null  object \n",
      " 15  Add-on Total       20000 non-null  float64\n",
      "dtypes: float64(3), int64(4), object(9)\n",
      "memory usage: 2.4+ MB\n"
     ]
    }
   ],
   "source": [
    "import matplotlib.pyplot as plt\n",
    "import pandas as pd\n",
    "df = pd.read_csv('./Electronic_sales_Sep2023-Sep2024.csv')\n",
    "df.info()"
   ]
  },
  {
   "cell_type": "code",
   "execution_count": 30,
   "id": "1f8468ee",
   "metadata": {},
   "outputs": [
    {
     "data": {
      "application/vnd.microsoft.datawrangler.viewer.v0+json": {
       "columns": [
        {
         "name": "index",
         "rawType": "int64",
         "type": "integer"
        },
        {
         "name": "Customer ID",
         "rawType": "int64",
         "type": "integer"
        },
        {
         "name": "Age",
         "rawType": "int64",
         "type": "integer"
        },
        {
         "name": "Gender",
         "rawType": "object",
         "type": "string"
        },
        {
         "name": "Loyalty Member",
         "rawType": "object",
         "type": "string"
        },
        {
         "name": "Product Type",
         "rawType": "object",
         "type": "string"
        },
        {
         "name": "SKU",
         "rawType": "object",
         "type": "string"
        },
        {
         "name": "Rating",
         "rawType": "int64",
         "type": "integer"
        },
        {
         "name": "Order Status",
         "rawType": "object",
         "type": "string"
        },
        {
         "name": "Payment Method",
         "rawType": "object",
         "type": "string"
        },
        {
         "name": "Total Price",
         "rawType": "float64",
         "type": "float"
        },
        {
         "name": "Unit Price",
         "rawType": "float64",
         "type": "float"
        },
        {
         "name": "Quantity",
         "rawType": "int64",
         "type": "integer"
        },
        {
         "name": "Purchase Date",
         "rawType": "object",
         "type": "string"
        },
        {
         "name": "Shipping Type",
         "rawType": "object",
         "type": "string"
        },
        {
         "name": "Add-ons Purchased",
         "rawType": "object",
         "type": "unknown"
        },
        {
         "name": "Add-on Total",
         "rawType": "float64",
         "type": "float"
        }
       ],
       "ref": "5f9bdc22-ab5e-4ca5-b1a8-b12ef4d99e3c",
       "rows": [
        [
         "0",
         "1000",
         "53",
         "Male",
         "No",
         "Smartphone",
         "SKU1004",
         "2",
         "Cancelled",
         "Credit Card",
         "5538.33",
         "791.19",
         "7",
         "2024-03-20",
         "Standard",
         "Accessory,Accessory,Accessory",
         "40.21"
        ],
        [
         "1",
         "1000",
         "53",
         "Male",
         "No",
         "Tablet",
         "SKU1002",
         "3",
         "Completed",
         "Paypal",
         "741.09",
         "247.03",
         "3",
         "2024-04-20",
         "Overnight",
         "Impulse Item",
         "26.09"
        ],
        [
         "2",
         "1002",
         "41",
         "Male",
         "No",
         "Laptop",
         "SKU1005",
         "3",
         "Completed",
         "Credit Card",
         "1855.84",
         "463.96",
         "4",
         "2023-10-17",
         "Express",
         null,
         "0.0"
        ],
        [
         "3",
         "1002",
         "41",
         "Male",
         "Yes",
         "Smartphone",
         "SKU1004",
         "2",
         "Completed",
         "Cash",
         "3164.76",
         "791.19",
         "4",
         "2024-08-09",
         "Overnight",
         "Impulse Item,Impulse Item",
         "60.16"
        ],
        [
         "4",
         "1003",
         "75",
         "Male",
         "Yes",
         "Smartphone",
         "SKU1001",
         "5",
         "Completed",
         "Cash",
         "41.5",
         "20.75",
         "2",
         "2024-05-21",
         "Express",
         "Accessory",
         "35.56"
        ]
       ],
       "shape": {
        "columns": 16,
        "rows": 5
       }
      },
      "text/html": [
       "<div>\n",
       "<style scoped>\n",
       "    .dataframe tbody tr th:only-of-type {\n",
       "        vertical-align: middle;\n",
       "    }\n",
       "\n",
       "    .dataframe tbody tr th {\n",
       "        vertical-align: top;\n",
       "    }\n",
       "\n",
       "    .dataframe thead th {\n",
       "        text-align: right;\n",
       "    }\n",
       "</style>\n",
       "<table border=\"1\" class=\"dataframe\">\n",
       "  <thead>\n",
       "    <tr style=\"text-align: right;\">\n",
       "      <th></th>\n",
       "      <th>Customer ID</th>\n",
       "      <th>Age</th>\n",
       "      <th>Gender</th>\n",
       "      <th>Loyalty Member</th>\n",
       "      <th>Product Type</th>\n",
       "      <th>SKU</th>\n",
       "      <th>Rating</th>\n",
       "      <th>Order Status</th>\n",
       "      <th>Payment Method</th>\n",
       "      <th>Total Price</th>\n",
       "      <th>Unit Price</th>\n",
       "      <th>Quantity</th>\n",
       "      <th>Purchase Date</th>\n",
       "      <th>Shipping Type</th>\n",
       "      <th>Add-ons Purchased</th>\n",
       "      <th>Add-on Total</th>\n",
       "    </tr>\n",
       "  </thead>\n",
       "  <tbody>\n",
       "    <tr>\n",
       "      <th>0</th>\n",
       "      <td>1000</td>\n",
       "      <td>53</td>\n",
       "      <td>Male</td>\n",
       "      <td>No</td>\n",
       "      <td>Smartphone</td>\n",
       "      <td>SKU1004</td>\n",
       "      <td>2</td>\n",
       "      <td>Cancelled</td>\n",
       "      <td>Credit Card</td>\n",
       "      <td>5538.33</td>\n",
       "      <td>791.19</td>\n",
       "      <td>7</td>\n",
       "      <td>2024-03-20</td>\n",
       "      <td>Standard</td>\n",
       "      <td>Accessory,Accessory,Accessory</td>\n",
       "      <td>40.21</td>\n",
       "    </tr>\n",
       "    <tr>\n",
       "      <th>1</th>\n",
       "      <td>1000</td>\n",
       "      <td>53</td>\n",
       "      <td>Male</td>\n",
       "      <td>No</td>\n",
       "      <td>Tablet</td>\n",
       "      <td>SKU1002</td>\n",
       "      <td>3</td>\n",
       "      <td>Completed</td>\n",
       "      <td>Paypal</td>\n",
       "      <td>741.09</td>\n",
       "      <td>247.03</td>\n",
       "      <td>3</td>\n",
       "      <td>2024-04-20</td>\n",
       "      <td>Overnight</td>\n",
       "      <td>Impulse Item</td>\n",
       "      <td>26.09</td>\n",
       "    </tr>\n",
       "    <tr>\n",
       "      <th>2</th>\n",
       "      <td>1002</td>\n",
       "      <td>41</td>\n",
       "      <td>Male</td>\n",
       "      <td>No</td>\n",
       "      <td>Laptop</td>\n",
       "      <td>SKU1005</td>\n",
       "      <td>3</td>\n",
       "      <td>Completed</td>\n",
       "      <td>Credit Card</td>\n",
       "      <td>1855.84</td>\n",
       "      <td>463.96</td>\n",
       "      <td>4</td>\n",
       "      <td>2023-10-17</td>\n",
       "      <td>Express</td>\n",
       "      <td>NaN</td>\n",
       "      <td>0.00</td>\n",
       "    </tr>\n",
       "    <tr>\n",
       "      <th>3</th>\n",
       "      <td>1002</td>\n",
       "      <td>41</td>\n",
       "      <td>Male</td>\n",
       "      <td>Yes</td>\n",
       "      <td>Smartphone</td>\n",
       "      <td>SKU1004</td>\n",
       "      <td>2</td>\n",
       "      <td>Completed</td>\n",
       "      <td>Cash</td>\n",
       "      <td>3164.76</td>\n",
       "      <td>791.19</td>\n",
       "      <td>4</td>\n",
       "      <td>2024-08-09</td>\n",
       "      <td>Overnight</td>\n",
       "      <td>Impulse Item,Impulse Item</td>\n",
       "      <td>60.16</td>\n",
       "    </tr>\n",
       "    <tr>\n",
       "      <th>4</th>\n",
       "      <td>1003</td>\n",
       "      <td>75</td>\n",
       "      <td>Male</td>\n",
       "      <td>Yes</td>\n",
       "      <td>Smartphone</td>\n",
       "      <td>SKU1001</td>\n",
       "      <td>5</td>\n",
       "      <td>Completed</td>\n",
       "      <td>Cash</td>\n",
       "      <td>41.50</td>\n",
       "      <td>20.75</td>\n",
       "      <td>2</td>\n",
       "      <td>2024-05-21</td>\n",
       "      <td>Express</td>\n",
       "      <td>Accessory</td>\n",
       "      <td>35.56</td>\n",
       "    </tr>\n",
       "  </tbody>\n",
       "</table>\n",
       "</div>"
      ],
      "text/plain": [
       "   Customer ID  Age Gender Loyalty Member Product Type      SKU  Rating  \\\n",
       "0         1000   53   Male             No   Smartphone  SKU1004       2   \n",
       "1         1000   53   Male             No       Tablet  SKU1002       3   \n",
       "2         1002   41   Male             No       Laptop  SKU1005       3   \n",
       "3         1002   41   Male            Yes   Smartphone  SKU1004       2   \n",
       "4         1003   75   Male            Yes   Smartphone  SKU1001       5   \n",
       "\n",
       "  Order Status Payment Method  Total Price  Unit Price  Quantity  \\\n",
       "0    Cancelled    Credit Card      5538.33      791.19         7   \n",
       "1    Completed         Paypal       741.09      247.03         3   \n",
       "2    Completed    Credit Card      1855.84      463.96         4   \n",
       "3    Completed           Cash      3164.76      791.19         4   \n",
       "4    Completed           Cash        41.50       20.75         2   \n",
       "\n",
       "  Purchase Date Shipping Type              Add-ons Purchased  Add-on Total  \n",
       "0    2024-03-20      Standard  Accessory,Accessory,Accessory         40.21  \n",
       "1    2024-04-20     Overnight                   Impulse Item         26.09  \n",
       "2    2023-10-17       Express                            NaN          0.00  \n",
       "3    2024-08-09     Overnight      Impulse Item,Impulse Item         60.16  \n",
       "4    2024-05-21       Express                      Accessory         35.56  "
      ]
     },
     "execution_count": 30,
     "metadata": {},
     "output_type": "execute_result"
    }
   ],
   "source": [
    "df.head(5)"
   ]
  },
  {
   "cell_type": "markdown",
   "id": "391785fd",
   "metadata": {},
   "source": [
    "### Задание 1"
   ]
  },
  {
   "cell_type": "code",
   "execution_count": 31,
   "id": "a24a263a",
   "metadata": {},
   "outputs": [
    {
     "data": {
      "application/vnd.microsoft.datawrangler.viewer.v0+json": {
       "columns": [
        {
         "name": "index",
         "rawType": "int64",
         "type": "integer"
        },
        {
         "name": "Customer ID",
         "rawType": "int64",
         "type": "integer"
        },
        {
         "name": "Preferred Payment Method",
         "rawType": "object",
         "type": "string"
        },
        {
         "name": "Total Spent",
         "rawType": "float64",
         "type": "float"
        },
        {
         "name": "Add-on Spent",
         "rawType": "float64",
         "type": "float"
        }
       ],
       "ref": "ebd80751-a1af-4e0a-821f-aaffb4ad142d",
       "rows": [
        [
         "0",
         "1000",
         "Credit Card",
         "6279.42",
         "66.3"
        ],
        [
         "1",
         "1002",
         "Cash",
         "5020.6",
         "60.16"
        ],
        [
         "2",
         "1003",
         "Cash",
         "41.5",
         "35.56"
        ],
        [
         "3",
         "1004",
         "Credit Card",
         "83.0",
         "65.78"
        ],
        [
         "4",
         "1005",
         "Debit Card",
         "11779.11",
         "75.33"
        ],
        [
         "5",
         "1006",
         "Cash",
         "12184.27",
         "133.43"
        ],
        [
         "6",
         "1007",
         "Credit Card",
         "7120.71",
         "55.48"
        ],
        [
         "7",
         "1008",
         "Cash",
         "3379.32",
         "65.85"
        ],
        [
         "8",
         "1011",
         "Credit Card",
         "7911.9",
         "70.17"
        ],
        [
         "9",
         "1013",
         "Paypal",
         "5538.33",
         "57.81"
        ],
        [
         "10",
         "1014",
         "Cash",
         "9816.119999999999",
         "77.61"
        ],
        [
         "11",
         "1015",
         "Paypal",
         "83.0",
         "80.0"
        ],
        [
         "12",
         "1016",
         "Paypal",
         "103.75",
         "0.0"
        ],
        [
         "13",
         "1018",
         "Paypal",
         "124.5",
         "70.39"
        ],
        [
         "14",
         "1019",
         "Cash",
         "1915.95",
         "87.03999999999999"
        ],
        [
         "15",
         "1020",
         "Debit Card",
         "3379.32",
         "37.13"
        ],
        [
         "16",
         "1021",
         "Cash",
         "844.83",
         "49.54"
        ],
        [
         "17",
         "1022",
         "Paypal",
         "6758.64",
         "73.49"
        ],
        [
         "18",
         "1024",
         "Cash",
         "1582.38",
         "51.93"
        ],
        [
         "19",
         "1025",
         "Cash",
         "2866.76",
         "77.78"
        ],
        [
         "20",
         "1027",
         "Paypal",
         "4747.14",
         "0.0"
        ],
        [
         "21",
         "1028",
         "Debit Card",
         "6758.64",
         "0.0"
        ],
        [
         "22",
         "1030",
         "Debit Card",
         "4224.15",
         "46.03"
        ],
        [
         "23",
         "1031",
         "Debit Card",
         "6017.56",
         "17.79"
        ],
        [
         "24",
         "1033",
         "Debit Card",
         "4152.88",
         "49.24"
        ],
        [
         "25",
         "1035",
         "Cash",
         "249.0",
         "33.56"
        ],
        [
         "26",
         "1036",
         "Debit Card",
         "4747.139999999999",
         "56.62"
        ],
        [
         "27",
         "1038",
         "Debit Card",
         "14976.71",
         "83.95"
        ],
        [
         "28",
         "1039",
         "Credit Card",
         "1729.21",
         "0.0"
        ],
        [
         "29",
         "1040",
         "Credit Card",
         "6329.52",
         "92.79"
        ],
        [
         "30",
         "1042",
         "Cash",
         "6059.06",
         "164.27"
        ],
        [
         "31",
         "1043",
         "Debit Card",
         "207.5",
         "0.0"
        ],
        [
         "32",
         "1047",
         "Debit Card",
         "2470.3",
         "63.23"
        ],
        [
         "33",
         "1048",
         "Debit Card",
         "2470.3",
         "0.0"
        ],
        [
         "34",
         "1049",
         "Paypal",
         "145.25",
         "86.36"
        ],
        [
         "35",
         "1052",
         "Cash",
         "5068.98",
         "45.46"
        ],
        [
         "36",
         "1053",
         "Debit Card",
         "4175.64",
         "88.3"
        ],
        [
         "37",
         "1054",
         "Paypal",
         "62.25",
         "79.9"
        ],
        [
         "38",
         "1056",
         "Credit Card",
         "1855.84",
         "41.24"
        ],
        [
         "39",
         "1057",
         "Debit Card",
         "9085.65",
         "116.77"
        ],
        [
         "40",
         "1058",
         "Credit Card",
         "4121.95",
         "92.57"
        ],
        [
         "41",
         "1059",
         "Debit Card",
         "3711.68",
         "71.69"
        ],
        [
         "42",
         "1060",
         "Paypal",
         "4920.4",
         "133.49"
        ],
        [
         "43",
         "1061",
         "Cash",
         "2440.2",
         "97.89999999999999"
        ],
        [
         "44",
         "1062",
         "Debit Card",
         "6329.52",
         "26.24"
        ],
        [
         "45",
         "1063",
         "Credit Card",
         "4229.41",
         "6.47"
        ],
        [
         "46",
         "1066",
         "Credit Card",
         "4747.14",
         "83.84"
        ],
        [
         "47",
         "1067",
         "Debit Card",
         "3418.87",
         "81.55"
        ],
        [
         "48",
         "1069",
         "Cash",
         "145.25",
         "96.61"
        ],
        [
         "49",
         "1070",
         "Paypal",
         "62.25",
         "6.3"
        ]
       ],
       "shape": {
        "columns": 4,
        "rows": 12136
       }
      },
      "text/html": [
       "<div>\n",
       "<style scoped>\n",
       "    .dataframe tbody tr th:only-of-type {\n",
       "        vertical-align: middle;\n",
       "    }\n",
       "\n",
       "    .dataframe tbody tr th {\n",
       "        vertical-align: top;\n",
       "    }\n",
       "\n",
       "    .dataframe thead th {\n",
       "        text-align: right;\n",
       "    }\n",
       "</style>\n",
       "<table border=\"1\" class=\"dataframe\">\n",
       "  <thead>\n",
       "    <tr style=\"text-align: right;\">\n",
       "      <th></th>\n",
       "      <th>Customer ID</th>\n",
       "      <th>Preferred Payment Method</th>\n",
       "      <th>Total Spent</th>\n",
       "      <th>Add-on Spent</th>\n",
       "    </tr>\n",
       "  </thead>\n",
       "  <tbody>\n",
       "    <tr>\n",
       "      <th>0</th>\n",
       "      <td>1000</td>\n",
       "      <td>Credit Card</td>\n",
       "      <td>6279.42</td>\n",
       "      <td>66.30</td>\n",
       "    </tr>\n",
       "    <tr>\n",
       "      <th>1</th>\n",
       "      <td>1002</td>\n",
       "      <td>Cash</td>\n",
       "      <td>5020.60</td>\n",
       "      <td>60.16</td>\n",
       "    </tr>\n",
       "    <tr>\n",
       "      <th>2</th>\n",
       "      <td>1003</td>\n",
       "      <td>Cash</td>\n",
       "      <td>41.50</td>\n",
       "      <td>35.56</td>\n",
       "    </tr>\n",
       "    <tr>\n",
       "      <th>3</th>\n",
       "      <td>1004</td>\n",
       "      <td>Credit Card</td>\n",
       "      <td>83.00</td>\n",
       "      <td>65.78</td>\n",
       "    </tr>\n",
       "    <tr>\n",
       "      <th>4</th>\n",
       "      <td>1005</td>\n",
       "      <td>Debit Card</td>\n",
       "      <td>11779.11</td>\n",
       "      <td>75.33</td>\n",
       "    </tr>\n",
       "    <tr>\n",
       "      <th>...</th>\n",
       "      <td>...</td>\n",
       "      <td>...</td>\n",
       "      <td>...</td>\n",
       "      <td>...</td>\n",
       "    </tr>\n",
       "    <tr>\n",
       "      <th>12131</th>\n",
       "      <td>19994</td>\n",
       "      <td>Bank Transfer</td>\n",
       "      <td>5504.87</td>\n",
       "      <td>93.17</td>\n",
       "    </tr>\n",
       "    <tr>\n",
       "      <th>12132</th>\n",
       "      <td>19995</td>\n",
       "      <td>Credit Card</td>\n",
       "      <td>5394.56</td>\n",
       "      <td>0.00</td>\n",
       "    </tr>\n",
       "    <tr>\n",
       "      <th>12133</th>\n",
       "      <td>19996</td>\n",
       "      <td>Bank Transfer</td>\n",
       "      <td>27296.78</td>\n",
       "      <td>432.12</td>\n",
       "    </tr>\n",
       "    <tr>\n",
       "      <th>12134</th>\n",
       "      <td>19997</td>\n",
       "      <td>Bank Transfer</td>\n",
       "      <td>2528.26</td>\n",
       "      <td>101.34</td>\n",
       "    </tr>\n",
       "    <tr>\n",
       "      <th>12135</th>\n",
       "      <td>19998</td>\n",
       "      <td>Bank Transfer</td>\n",
       "      <td>674.32</td>\n",
       "      <td>0.00</td>\n",
       "    </tr>\n",
       "  </tbody>\n",
       "</table>\n",
       "<p>12136 rows × 4 columns</p>\n",
       "</div>"
      ],
      "text/plain": [
       "       Customer ID Preferred Payment Method  Total Spent  Add-on Spent\n",
       "0             1000              Credit Card      6279.42         66.30\n",
       "1             1002                     Cash      5020.60         60.16\n",
       "2             1003                     Cash        41.50         35.56\n",
       "3             1004              Credit Card        83.00         65.78\n",
       "4             1005               Debit Card     11779.11         75.33\n",
       "...            ...                      ...          ...           ...\n",
       "12131        19994            Bank Transfer      5504.87         93.17\n",
       "12132        19995              Credit Card      5394.56          0.00\n",
       "12133        19996            Bank Transfer     27296.78        432.12\n",
       "12134        19997            Bank Transfer      2528.26        101.34\n",
       "12135        19998            Bank Transfer       674.32          0.00\n",
       "\n",
       "[12136 rows x 4 columns]"
      ]
     },
     "execution_count": 31,
     "metadata": {},
     "output_type": "execute_result"
    }
   ],
   "source": [
    "df.groupby(\"Customer ID\").agg({\n",
    "          \"Payment Method\": lambda x: x.mode().iloc[0] if not x.mode().empty else None,\n",
    "          \"Total Price\": \"sum\",\n",
    "          \"Add-on Total\": \"sum\"\n",
    "      }).rename(columns={\n",
    "          \"Payment Method\": \"Preferred Payment Method\",\n",
    "          \"Total Price\": \"Total Spent\",\n",
    "          \"Add-on Total\": \"Add-on Spent\"\n",
    "      }).reset_index()"
   ]
  },
  {
   "cell_type": "markdown",
   "id": "64d0822a",
   "metadata": {},
   "source": [
    "### Задание 2"
   ]
  },
  {
   "cell_type": "code",
   "execution_count": 41,
   "id": "3fed507b",
   "metadata": {},
   "outputs": [
    {
     "data": {
      "application/vnd.microsoft.datawrangler.viewer.v0+json": {
       "columns": [
        {
         "name": "index",
         "rawType": "int64",
         "type": "integer"
        },
        {
         "name": "Shipping Type",
         "rawType": "object",
         "type": "string"
        },
        {
         "name": "Income",
         "rawType": "float64",
         "type": "float"
        }
       ],
       "ref": "3a535c8e-7323-4c0f-8f46-d7f5177630d9",
       "rows": [
        [
         "0",
         "Expedited",
         "12437526.21"
        ],
        [
         "1",
         "Express",
         "8685215.620000001"
        ],
        [
         "2",
         "Overnight",
         "8704828.17"
        ],
        [
         "3",
         "Same Day",
         "12432024.82"
        ],
        [
         "4",
         "Standard",
         "21343073.55"
        ]
       ],
       "shape": {
        "columns": 2,
        "rows": 5
       }
      },
      "text/html": [
       "<div>\n",
       "<style scoped>\n",
       "    .dataframe tbody tr th:only-of-type {\n",
       "        vertical-align: middle;\n",
       "    }\n",
       "\n",
       "    .dataframe tbody tr th {\n",
       "        vertical-align: top;\n",
       "    }\n",
       "\n",
       "    .dataframe thead th {\n",
       "        text-align: right;\n",
       "    }\n",
       "</style>\n",
       "<table border=\"1\" class=\"dataframe\">\n",
       "  <thead>\n",
       "    <tr style=\"text-align: right;\">\n",
       "      <th></th>\n",
       "      <th>Shipping Type</th>\n",
       "      <th>Income</th>\n",
       "    </tr>\n",
       "  </thead>\n",
       "  <tbody>\n",
       "    <tr>\n",
       "      <th>0</th>\n",
       "      <td>Expedited</td>\n",
       "      <td>12437526.21</td>\n",
       "    </tr>\n",
       "    <tr>\n",
       "      <th>1</th>\n",
       "      <td>Express</td>\n",
       "      <td>8685215.62</td>\n",
       "    </tr>\n",
       "    <tr>\n",
       "      <th>2</th>\n",
       "      <td>Overnight</td>\n",
       "      <td>8704828.17</td>\n",
       "    </tr>\n",
       "    <tr>\n",
       "      <th>3</th>\n",
       "      <td>Same Day</td>\n",
       "      <td>12432024.82</td>\n",
       "    </tr>\n",
       "    <tr>\n",
       "      <th>4</th>\n",
       "      <td>Standard</td>\n",
       "      <td>21343073.55</td>\n",
       "    </tr>\n",
       "  </tbody>\n",
       "</table>\n",
       "</div>"
      ],
      "text/plain": [
       "  Shipping Type       Income\n",
       "0     Expedited  12437526.21\n",
       "1       Express   8685215.62\n",
       "2     Overnight   8704828.17\n",
       "3      Same Day  12432024.82\n",
       "4      Standard  21343073.55"
      ]
     },
     "execution_count": 41,
     "metadata": {},
     "output_type": "execute_result"
    }
   ],
   "source": [
    "# Доход по каждому методу доставки\n",
    "res1 = df.groupby(\"Shipping Type\").agg({\n",
    "          \"Total Price\": \"sum\",\n",
    "      }).rename(columns={\"Total Price\":\"Income\"}).reset_index()\n",
    "res1"
   ]
  },
  {
   "cell_type": "code",
   "execution_count": 44,
   "id": "8f3a1775",
   "metadata": {},
   "outputs": [
    {
     "data": {
      "text/plain": [
       "[<matplotlib.lines.Line2D at 0x7fc62c583750>]"
      ]
     },
     "execution_count": 44,
     "metadata": {},
     "output_type": "execute_result"
    },
    {
     "data": {
      "image/png": "[encoded data removed]",
      "text/plain": [
       "<Figure size 640x480 with 1 Axes>"
      ]
     },
     "metadata": {},
     "output_type": "display_data"
    }
   ],
   "source": [
    "plt.plot(res1[\"Shipping Type\"], res1[\"Income\"], marker='o', linestyle='-', color='tab:blue')"
   ]
  },
  {
   "cell_type": "code",
   "execution_count": 47,
   "id": "a5666588",
   "metadata": {},
   "outputs": [
    {
     "data": {
      "application/vnd.microsoft.datawrangler.viewer.v0+json": {
       "columns": [
        {
         "name": "index",
         "rawType": "int64",
         "type": "integer"
        },
        {
         "name": "Product Type",
         "rawType": "object",
         "type": "string"
        },
        {
         "name": "Income",
         "rawType": "float64",
         "type": "float"
        }
       ],
       "ref": "e7251e19-ccb7-4e6b-b739-10e59e136427",
       "rows": [
        [
         "0",
         "Headphones",
         "4041400.24"
        ],
        [
         "1",
         "Laptop",
         "12296239.97"
        ],
        [
         "2",
         "Smartphone",
         "21516754.69"
        ],
        [
         "3",
         "Smartwatch",
         "14036273.06"
        ],
        [
         "4",
         "Tablet",
         "11712000.41"
        ]
       ],
       "shape": {
        "columns": 2,
        "rows": 5
       }
      },
      "text/html": [
       "<div>\n",
       "<style scoped>\n",
       "    .dataframe tbody tr th:only-of-type {\n",
       "        vertical-align: middle;\n",
       "    }\n",
       "\n",
       "    .dataframe tbody tr th {\n",
       "        vertical-align: top;\n",
       "    }\n",
       "\n",
       "    .dataframe thead th {\n",
       "        text-align: right;\n",
       "    }\n",
       "</style>\n",
       "<table border=\"1\" class=\"dataframe\">\n",
       "  <thead>\n",
       "    <tr style=\"text-align: right;\">\n",
       "      <th></th>\n",
       "      <th>Product Type</th>\n",
       "      <th>Income</th>\n",
       "    </tr>\n",
       "  </thead>\n",
       "  <tbody>\n",
       "    <tr>\n",
       "      <th>0</th>\n",
       "      <td>Headphones</td>\n",
       "      <td>4041400.24</td>\n",
       "    </tr>\n",
       "    <tr>\n",
       "      <th>1</th>\n",
       "      <td>Laptop</td>\n",
       "      <td>12296239.97</td>\n",
       "    </tr>\n",
       "    <tr>\n",
       "      <th>2</th>\n",
       "      <td>Smartphone</td>\n",
       "      <td>21516754.69</td>\n",
       "    </tr>\n",
       "    <tr>\n",
       "      <th>3</th>\n",
       "      <td>Smartwatch</td>\n",
       "      <td>14036273.06</td>\n",
       "    </tr>\n",
       "    <tr>\n",
       "      <th>4</th>\n",
       "      <td>Tablet</td>\n",
       "      <td>11712000.41</td>\n",
       "    </tr>\n",
       "  </tbody>\n",
       "</table>\n",
       "</div>"
      ],
      "text/plain": [
       "  Product Type       Income\n",
       "0   Headphones   4041400.24\n",
       "1       Laptop  12296239.97\n",
       "2   Smartphone  21516754.69\n",
       "3   Smartwatch  14036273.06\n",
       "4       Tablet  11712000.41"
      ]
     },
     "execution_count": 47,
     "metadata": {},
     "output_type": "execute_result"
    }
   ],
   "source": [
    "# Доход по каждому типу продукта\n",
    "res2 = df.groupby(\"Product Type\").agg({\n",
    "          \"Total Price\": \"sum\",\n",
    "      }).rename(columns={\"Total Price\":\"Income\"}).reset_index()\n",
    "res2"
   ]
  },
  {
   "cell_type": "code",
   "execution_count": 48,
   "id": "ac03206c",
   "metadata": {},
   "outputs": [
    {
     "data": {
      "text/plain": [
       "[<matplotlib.lines.Line2D at 0x7fc62c468410>]"
      ]
     },
     "execution_count": 48,
     "metadata": {},
     "output_type": "execute_result"
    },
    {
     "data": {
      "image/png": "[encoded data removed]",
      "text/plain": [
       "<Figure size 640x480 with 1 Axes>"
      ]
     },
     "metadata": {},
     "output_type": "display_data"
    }
   ],
   "source": [
    "plt.plot(res2[\"Product Type\"], res2[\"Income\"], marker='o', linestyle='-', color='tab:blue')"
   ]
  },
  {
   "cell_type": "code",
   "execution_count": 50,
   "id": "82654045",
   "metadata": {},
   "outputs": [],
   "source": [
    "df[\"Purchase Date\"] = pd.to_datetime(df[\"Purchase Date\"], errors=\"coerce\")"
   ]
  },
  {
   "cell_type": "code",
   "execution_count": 51,
   "id": "1ba07e67",
   "metadata": {},
   "outputs": [
    {
     "data": {
      "application/vnd.microsoft.datawrangler.viewer.v0+json": {
       "columns": [
        {
         "name": "index",
         "rawType": "int64",
         "type": "integer"
        },
        {
         "name": "Month",
         "rawType": "period[M]",
         "type": "unknown"
        },
        {
         "name": "Add-on Income",
         "rawType": "float64",
         "type": "float"
        }
       ],
       "ref": "5e3dc59c-3eca-403d-84fc-eb2e2173f986",
       "rows": [
        [
         "0",
         "2023-09",
         "8012.62"
        ],
        [
         "1",
         "2023-10",
         "37837.12"
        ],
        [
         "2",
         "2023-11",
         "34888.81"
        ],
        [
         "3",
         "2023-12",
         "33509.15"
        ],
        [
         "4",
         "2024-01",
         "136195.16"
        ],
        [
         "5",
         "2024-02",
         "120148.92"
        ],
        [
         "6",
         "2024-03",
         "124954.26"
        ],
        [
         "7",
         "2024-04",
         "123973.59"
        ],
        [
         "8",
         "2024-05",
         "132018.51"
        ],
        [
         "9",
         "2024-06",
         "126689.59"
        ],
        [
         "10",
         "2024-07",
         "132017.2"
        ],
        [
         "11",
         "2024-08",
         "135133.14"
        ],
        [
         "12",
         "2024-09",
         "99518.89"
        ]
       ],
       "shape": {
        "columns": 2,
        "rows": 13
       }
      },
      "text/html": [
       "<div>\n",
       "<style scoped>\n",
       "    .dataframe tbody tr th:only-of-type {\n",
       "        vertical-align: middle;\n",
       "    }\n",
       "\n",
       "    .dataframe tbody tr th {\n",
       "        vertical-align: top;\n",
       "    }\n",
       "\n",
       "    .dataframe thead th {\n",
       "        text-align: right;\n",
       "    }\n",
       "</style>\n",
       "<table border=\"1\" class=\"dataframe\">\n",
       "  <thead>\n",
       "    <tr style=\"text-align: right;\">\n",
       "      <th></th>\n",
       "      <th>Month</th>\n",
       "      <th>Add-on Income</th>\n",
       "    </tr>\n",
       "  </thead>\n",
       "  <tbody>\n",
       "    <tr>\n",
       "      <th>0</th>\n",
       "      <td>2023-09</td>\n",
       "      <td>8012.62</td>\n",
       "    </tr>\n",
       "    <tr>\n",
       "      <th>1</th>\n",
       "      <td>2023-10</td>\n",
       "      <td>37837.12</td>\n",
       "    </tr>\n",
       "    <tr>\n",
       "      <th>2</th>\n",
       "      <td>2023-11</td>\n",
       "      <td>34888.81</td>\n",
       "    </tr>\n",
       "    <tr>\n",
       "      <th>3</th>\n",
       "      <td>2023-12</td>\n",
       "      <td>33509.15</td>\n",
       "    </tr>\n",
       "    <tr>\n",
       "      <th>4</th>\n",
       "      <td>2024-01</td>\n",
       "      <td>136195.16</td>\n",
       "    </tr>\n",
       "    <tr>\n",
       "      <th>5</th>\n",
       "      <td>2024-02</td>\n",
       "      <td>120148.92</td>\n",
       "    </tr>\n",
       "    <tr>\n",
       "      <th>6</th>\n",
       "      <td>2024-03</td>\n",
       "      <td>124954.26</td>\n",
       "    </tr>\n",
       "    <tr>\n",
       "      <th>7</th>\n",
       "      <td>2024-04</td>\n",
       "      <td>123973.59</td>\n",
       "    </tr>\n",
       "    <tr>\n",
       "      <th>8</th>\n",
       "      <td>2024-05</td>\n",
       "      <td>132018.51</td>\n",
       "    </tr>\n",
       "    <tr>\n",
       "      <th>9</th>\n",
       "      <td>2024-06</td>\n",
       "      <td>126689.59</td>\n",
       "    </tr>\n",
       "    <tr>\n",
       "      <th>10</th>\n",
       "      <td>2024-07</td>\n",
       "      <td>132017.20</td>\n",
       "    </tr>\n",
       "    <tr>\n",
       "      <th>11</th>\n",
       "      <td>2024-08</td>\n",
       "      <td>135133.14</td>\n",
       "    </tr>\n",
       "    <tr>\n",
       "      <th>12</th>\n",
       "      <td>2024-09</td>\n",
       "      <td>99518.89</td>\n",
       "    </tr>\n",
       "  </tbody>\n",
       "</table>\n",
       "</div>"
      ],
      "text/plain": [
       "      Month  Add-on Income\n",
       "0   2023-09        8012.62\n",
       "1   2023-10       37837.12\n",
       "2   2023-11       34888.81\n",
       "3   2023-12       33509.15\n",
       "4   2024-01      136195.16\n",
       "5   2024-02      120148.92\n",
       "6   2024-03      124954.26\n",
       "7   2024-04      123973.59\n",
       "8   2024-05      132018.51\n",
       "9   2024-06      126689.59\n",
       "10  2024-07      132017.20\n",
       "11  2024-08      135133.14\n",
       "12  2024-09       99518.89"
      ]
     },
     "execution_count": 51,
     "metadata": {},
     "output_type": "execute_result"
    }
   ],
   "source": [
    "# Доход по дополнительным услугам за каждый месяц\n",
    "res3 = df.groupby(df[\"Purchase Date\"].dt.to_period(\"M\"))[\"Add-on Total\"].sum().reset_index().rename(\n",
    "    columns={\"Purchase Date\": \"Month\", \"Add-on Total\": \"Add-on Income\"}\n",
    "    )\n",
    "res3"
   ]
  },
  {
   "cell_type": "code",
   "execution_count": 59,
   "id": "ef204efe",
   "metadata": {},
   "outputs": [
    {
     "data": {
      "text/plain": [
       "[<matplotlib.lines.Line2D at 0x7fc6262e2c10>]"
      ]
     },
     "execution_count": 59,
     "metadata": {},
     "output_type": "execute_result"
    },
    {
     "data": {
      "image/png": "[encoded data removed]",
      "text/plain": [
       "<Figure size 640x480 with 1 Axes>"
      ]
     },
     "metadata": {},
     "output_type": "display_data"
    }
   ],
   "source": [
    "plt.xticks(rotation=45, ha=\"right\")\n",
    "plt.plot(res3[\"Month\"].astype(str), res3[\"Add-on Income\"], marker='o', linestyle='-', color='tab:blue')"
   ]
  },
  {
   "cell_type": "code",
   "execution_count": 60,
   "id": "431eba8c",
   "metadata": {},
   "outputs": [
    {
     "data": {
      "application/vnd.microsoft.datawrangler.viewer.v0+json": {
       "columns": [
        {
         "name": "index",
         "rawType": "int64",
         "type": "integer"
        },
        {
         "name": "Quarter",
         "rawType": "period[Q-DEC]",
         "type": "unknown"
        },
        {
         "name": "Add-on Income",
         "rawType": "float64",
         "type": "float"
        }
       ],
       "ref": "a55aff92-a398-46c5-bd00-c968ce3e85d4",
       "rows": [
        [
         "0",
         "2023Q3",
         "8012.62"
        ],
        [
         "1",
         "2023Q4",
         "106235.08"
        ],
        [
         "2",
         "2024Q1",
         "381298.34"
        ],
        [
         "3",
         "2024Q2",
         "382681.69"
        ],
        [
         "4",
         "2024Q3",
         "366669.23"
        ]
       ],
       "shape": {
        "columns": 2,
        "rows": 5
       }
      },
      "text/html": [
       "<div>\n",
       "<style scoped>\n",
       "    .dataframe tbody tr th:only-of-type {\n",
       "        vertical-align: middle;\n",
       "    }\n",
       "\n",
       "    .dataframe tbody tr th {\n",
       "        vertical-align: top;\n",
       "    }\n",
       "\n",
       "    .dataframe thead th {\n",
       "        text-align: right;\n",
       "    }\n",
       "</style>\n",
       "<table border=\"1\" class=\"dataframe\">\n",
       "  <thead>\n",
       "    <tr style=\"text-align: right;\">\n",
       "      <th></th>\n",
       "      <th>Quarter</th>\n",
       "      <th>Add-on Income</th>\n",
       "    </tr>\n",
       "  </thead>\n",
       "  <tbody>\n",
       "    <tr>\n",
       "      <th>0</th>\n",
       "      <td>2023Q3</td>\n",
       "      <td>8012.62</td>\n",
       "    </tr>\n",
       "    <tr>\n",
       "      <th>1</th>\n",
       "      <td>2023Q4</td>\n",
       "      <td>106235.08</td>\n",
       "    </tr>\n",
       "    <tr>\n",
       "      <th>2</th>\n",
       "      <td>2024Q1</td>\n",
       "      <td>381298.34</td>\n",
       "    </tr>\n",
       "    <tr>\n",
       "      <th>3</th>\n",
       "      <td>2024Q2</td>\n",
       "      <td>382681.69</td>\n",
       "    </tr>\n",
       "    <tr>\n",
       "      <th>4</th>\n",
       "      <td>2024Q3</td>\n",
       "      <td>366669.23</td>\n",
       "    </tr>\n",
       "  </tbody>\n",
       "</table>\n",
       "</div>"
      ],
      "text/plain": [
       "  Quarter  Add-on Income\n",
       "0  2023Q3        8012.62\n",
       "1  2023Q4      106235.08\n",
       "2  2024Q1      381298.34\n",
       "3  2024Q2      382681.69\n",
       "4  2024Q3      366669.23"
      ]
     },
     "execution_count": 60,
     "metadata": {},
     "output_type": "execute_result"
    }
   ],
   "source": [
    "# Доход по дополнительным услугам за каждый квартал\n",
    "res4 = df.groupby(df[\"Purchase Date\"].dt.to_period(\"Q\"))[\"Add-on Total\"].sum().reset_index().rename(\n",
    "    columns={\"Purchase Date\": \"Quarter\", \"Add-on Total\": \"Add-on Income\"}\n",
    "    )\n",
    "res4"
   ]
  },
  {
   "cell_type": "code",
   "execution_count": 61,
   "id": "bb1681ca",
   "metadata": {},
   "outputs": [
    {
     "data": {
      "text/plain": [
       "[<matplotlib.lines.Line2D at 0x7fc6265a9450>]"
      ]
     },
     "execution_count": 61,
     "metadata": {},
     "output_type": "execute_result"
    },
    {
     "data": {
      "image/png": "[encoded data removed]",
      "text/plain": [
       "<Figure size 640x480 with 1 Axes>"
      ]
     },
     "metadata": {},
     "output_type": "display_data"
    }
   ],
   "source": [
    "plt.plot(res4[\"Quarter\"].astype(str), res4[\"Add-on Income\"], marker='o', linestyle='-', color='tab:blue')"
   ]
  }
 ],
 "metadata": {
  "kernelspec": {
   "display_name": "venv (3.13.7)",
   "language": "python",
   "name": "python3"
  },
  "language_info": {
   "codemirror_mode": {
    "name": "ipython",
    "version": 3
   },
   "file_extension": ".py",
   "mimetype": "text/x-python",
   "name": "python",
   "nbconvert_exporter": "python",
   "pygments_lexer": "ipython3",
   "version": "3.13.7"
  }
 },
 "nbformat": 4,
 "nbformat_minor": 5
}
